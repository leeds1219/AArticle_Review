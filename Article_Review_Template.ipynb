{
  "nbformat": 4,
  "nbformat_minor": 0,
  "metadata": {
    "colab": {
      "provenance": [],
      "authorship_tag": "ABX9TyPriS9cFjDSho4md6pL14U5",
      "include_colab_link": true
    },
    "kernelspec": {
      "name": "python3",
      "display_name": "Python 3"
    },
    "language_info": {
      "name": "python"
    }
  },
  "cells": [
    {
      "cell_type": "markdown",
      "metadata": {
        "id": "view-in-github",
        "colab_type": "text"
      },
      "source": [
        "<a href=\"https://colab.research.google.com/github/leeds1219/Article_Review/blob/main/Article_Review_Template.ipynb\" target=\"_parent\"><img src=\"https://colab.research.google.com/assets/colab-badge.svg\" alt=\"Open In Colab\"/></a>"
      ]
    },
    {
      "cell_type": "markdown",
      "source": [
        "# Be critical"
      ],
      "metadata": {
        "id": "c-HC_FpIy_rJ"
      }
    },
    {
      "cell_type": "markdown",
      "source": [
        "Objective ---> Related Works ---> Limitations ---> Method ---> Results"
      ],
      "metadata": {
        "id": "aqupt9Ydyuz8"
      }
    },
    {
      "cell_type": "markdown",
      "source": [
        "# Motivations\n",
        "\n",
        "What is the objective?\n",
        "\n",
        "What does the paper aims to handle?\n",
        "\n",
        "The related works and limitations?\n",
        "\n",
        "What is the problem?\n",
        "\n",
        "Why is the problem a challenge?"
      ],
      "metadata": {
        "id": "qa_TonWlw3_L"
      }
    },
    {
      "cell_type": "markdown",
      "source": [
        "# Methods\n",
        "\n",
        "What is the selling point?\n",
        "\n",
        "Why do we need that method the paper suggest?\n",
        "\n",
        "Specific input and output?\n",
        "\n",
        "What the loss mean?\n",
        "\n",
        "Why does the method improve results?\n",
        "\n",
        "Is it because of the method?\n",
        "\n",
        "The purpose method's limits?"
      ],
      "metadata": {
        "id": "WSWNmjvOx7mn"
      }
    }
  ]
}