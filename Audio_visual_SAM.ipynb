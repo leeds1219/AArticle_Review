{
  "nbformat": 4,
  "nbformat_minor": 0,
  "metadata": {
    "colab": {
      "provenance": [],
      "authorship_tag": "ABX9TyOHLZMX/akPHzyrP1LqAntr",
      "include_colab_link": true
    },
    "kernelspec": {
      "name": "python3",
      "display_name": "Python 3"
    },
    "language_info": {
      "name": "python"
    }
  },
  "cells": [
    {
      "cell_type": "markdown",
      "metadata": {
        "id": "view-in-github",
        "colab_type": "text"
      },
      "source": [
        "<a href=\"https://colab.research.google.com/github/leeds1219/AArticle_Review/blob/main/Audio_visual_SAM.ipynb\" target=\"_parent\"><img src=\"https://colab.research.google.com/assets/colab-badge.svg\" alt=\"Open In Colab\"/></a>"
      ]
    },
    {
      "cell_type": "code",
      "execution_count": null,
      "metadata": {
        "id": "TKm-V7wH37_x"
      },
      "outputs": [],
      "source": []
    },
    {
      "cell_type": "markdown",
      "source": [
        "SAM structure\n",
        "\n",
        "Image encoder: ViT\n",
        "\n",
        "Prompt encoder:\n",
        "\n",
        "1. Sparse prompts(points, boxes, texts)\n",
        "\n",
        "points and boxes: positional encodings and learned embeddings\n",
        "\n",
        "texts: CLIP text encoder\n",
        "\n",
        "1. Masks\n",
        "\n",
        "masks: summed into the image embeddings with convolution\n",
        "\n",
        "if no prompts SAM generate the segmentation proposals by traversing the entire image\n",
        "\n",
        "Mask decoder:\n"
      ],
      "metadata": {
        "id": "8PWATrDf4Cqv"
      }
    },
    {
      "cell_type": "markdown",
      "source": [
        "Image = I, GT mask = G\n",
        "\n",
        "SAM predicts N masks = $M_{i}$"
      ],
      "metadata": {
        "id": "glptY_l44PMb"
      }
    },
    {
      "cell_type": "markdown",
      "source": [],
      "metadata": {
        "id": "tohObFab4P2j"
      }
    }
  ]
}