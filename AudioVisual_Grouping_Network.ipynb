{
  "nbformat": 4,
  "nbformat_minor": 0,
  "metadata": {
    "colab": {
      "provenance": [],
      "authorship_tag": "ABX9TyMNyrmdwdw/C3e0kFMgmuVW",
      "include_colab_link": true
    },
    "kernelspec": {
      "name": "python3",
      "display_name": "Python 3"
    },
    "language_info": {
      "name": "python"
    }
  },
  "cells": [
    {
      "cell_type": "markdown",
      "metadata": {
        "id": "view-in-github",
        "colab_type": "text"
      },
      "source": [
        "<a href=\"https://colab.research.google.com/github/leeds1219/Article_Review/blob/main/AudioVisual_Grouping_Network.ipynb\" target=\"_parent\"><img src=\"https://colab.research.google.com/assets/colab-badge.svg\" alt=\"Open In Colab\"/></a>"
      ]
    },
    {
      "cell_type": "markdown",
      "source": [
        "## **Audio-Visual Grouping Network for Sound Localization from Mixtures**\n",
        "Shentong MO, Yapeng Tian\n"
      ],
      "metadata": {
        "id": "yYaJk_nSuZRr"
      }
    },
    {
      "cell_type": "markdown",
      "source": [
        "<img src = \"https://drive.google.com/uc?id=1tPSL_zpnv99tELSvOgUkbmE69Xr6uvNF\">\n"
      ],
      "metadata": {
        "id": "Y2MwxHeavSm2"
      }
    },
    {
      "cell_type": "markdown",
      "source": [
        "C is the source event categories"
      ],
      "metadata": {
        "id": "OxHzaFwk3NEY"
      }
    },
    {
      "cell_type": "markdown",
      "source": [
        "Aggregate audio-visual tokens $\\{ \\hat{c}_{i}^{a} \\}_{i=1}^{C}$,\n",
        "Global audio and spatial visual features $\\hat{f}^{a}$"
      ],
      "metadata": {
        "id": "KKIrujevv1wQ"
      }
    },
    {
      "cell_type": "markdown",
      "source": [
        "\n",
        "Align features and tokens from raw input of image and audio mixture with self attention transformers: $\\hat{f}^{a}$, $\\{ \\hat{c}_{i}^{a} \\}_{i=1}^{C}$ = $\\{\\phi(x_{j}^{a}, X^{a},X^{a})\\}_{j=1}^{1+C}$"
      ],
      "metadata": {
        "id": "zufXvmjSzWOG"
      }
    },
    {
      "cell_type": "markdown",
      "source": [
        "$\\text{Attention}(Q, K, V) = \\text{Softmax}\\left(\\frac{QK^T}{\\sqrt{d_k}}\\right) V\n",
        "$"
      ],
      "metadata": {
        "id": "IRtnkZ6g26WH"
      }
    },
    {
      "cell_type": "markdown",
      "source": [
        "$X^{a}$ = $\\{x_{j}^{a}\\}_{j=1}^{1+C}$ = [$f^{a}$;$\\{c_{i}\\}_{i=1}^{C}$] is the entire set of input features, $x_{j}^{a}$ is the indiviual element in the set."
      ],
      "metadata": {
        "id": "5bwtUySs2pjc"
      }
    },
    {
      "cell_type": "markdown",
      "source": [
        "${\\phi^{a}}(x_{j}^{a}, X^{a},X^{a}) = \\text{Softmax}\\left(\\frac{{x_{j}^{a}}{X^{a}}^T}{\\sqrt{D}}\\right) {X^{a}}\n",
        "$"
      ],
      "metadata": {
        "id": "Y6BHhE3G65Rk"
      }
    },
    {
      "cell_type": "markdown",
      "source": [
        "FC layer and add softmax operator"
      ],
      "metadata": {
        "id": "_aiOJ0Pf6qcl"
      }
    },
    {
      "cell_type": "markdown",
      "source": [],
      "metadata": {
        "id": "LEUmwTQ-8Lc1"
      }
    }
  ]
}