{
  "nbformat": 4,
  "nbformat_minor": 0,
  "metadata": {
    "colab": {
      "provenance": [],
      "authorship_tag": "ABX9TyOaqTuqyT+MMPuUniiy51xw",
      "include_colab_link": true
    },
    "kernelspec": {
      "name": "python3",
      "display_name": "Python 3"
    },
    "language_info": {
      "name": "python"
    }
  },
  "cells": [
    {
      "cell_type": "markdown",
      "metadata": {
        "id": "view-in-github",
        "colab_type": "text"
      },
      "source": [
        "<a href=\"https://colab.research.google.com/github/leeds1219/Article_Review/blob/main/CyclicCoLearning_CCoL_Review.ipynb\" target=\"_parent\"><img src=\"https://colab.research.google.com/assets/colab-badge.svg\" alt=\"Open In Colab\"/></a>"
      ]
    },
    {
      "cell_type": "markdown",
      "source": [
        "**Cyclic co-learning of sounding object visual grounding and sound separation**\n",
        "- Yapeng Tian, Di Hu, and Chenliang Xu,CVPR 2021"
      ],
      "metadata": {
        "id": "B5Le3XcAy6fe"
      }
    },
    {
      "cell_type": "markdown",
      "source": [
        "# Introduction"
      ],
      "metadata": {
        "id": "-FRYTq3oz1Vj"
      }
    },
    {
      "cell_type": "markdown",
      "source": [
        "Sounding Source Visual Grounding"
      ],
      "metadata": {
        "id": "Wcf_fRws0lQK"
      }
    },
    {
      "cell_type": "markdown",
      "source": [
        "Audio-Visual Sound Separation"
      ],
      "metadata": {
        "id": "dYn9EmCw1Bmc"
      }
    },
    {
      "cell_type": "markdown",
      "source": [
        "# Background"
      ],
      "metadata": {
        "id": "LuOZ0eE4z4V1"
      }
    },
    {
      "cell_type": "markdown",
      "source": [
        "<img src = \"https://drive.google.com/uc?id=1bzCdfg34WROc7r_Dq3sRN8rh5Ze_q_Ii\">"
      ],
      "metadata": {
        "id": "4APH_QNS4PRg"
      }
    },
    {
      "cell_type": "markdown",
      "source": [
        "Cyclic Co-Learning like the name implies"
      ],
      "metadata": {
        "id": "ETj7iTDL133-"
      }
    },
    {
      "cell_type": "markdown",
      "source": [
        "# Architecture"
      ],
      "metadata": {
        "id": "CIWKlwzP0PyO"
      }
    },
    {
      "cell_type": "markdown",
      "source": [
        "# Experiments"
      ],
      "metadata": {
        "id": "rjBWb5Gc0aAq"
      }
    },
    {
      "cell_type": "markdown",
      "source": [
        "# References"
      ],
      "metadata": {
        "id": "3T5i6_zp0dO8"
      }
    }
  ]
}